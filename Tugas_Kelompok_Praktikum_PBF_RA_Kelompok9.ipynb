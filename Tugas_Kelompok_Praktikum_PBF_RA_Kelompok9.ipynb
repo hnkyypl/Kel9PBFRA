{
  "nbformat": 4,
  "nbformat_minor": 0,
  "metadata": {
    "colab": {
      "provenance": [],
      "include_colab_link": true
    },
    "kernelspec": {
      "name": "python3",
      "display_name": "Python 3"
    },
    "language_info": {
      "name": "python"
    }
  },
  "cells": [
    {
      "cell_type": "markdown",
      "metadata": {
        "id": "view-in-github",
        "colab_type": "text"
      },
      "source": [
        "<a href=\"https://colab.research.google.com/github/bayusyuhada/Kel9PBFRA/blob/main/Tugas_Kelompok_Praktikum_PBF_RA_Kelompok9.ipynb\" target=\"_parent\"><img src=\"https://colab.research.google.com/assets/colab-badge.svg\" alt=\"Open In Colab\"/></a>"
      ]
    },
    {
      "cell_type": "markdown",
      "source": [
        "# buatlah fungsi komposisi dengan nilai f(x) = (4^x), g(x) = (x^x) dan h(x) = 3+x dengan pemrograman prosedural 3 fungsi dan pemrograman fungsional dengan lambda"
      ],
      "metadata": {
        "id": "afho2JSfHV3M"
      }
    },
    {
      "cell_type": "code",
      "execution_count": null,
      "metadata": {
        "id": "nXNYxX_WDKJY"
      },
      "outputs": [],
      "source": [
        "#fungsi komposisi f(x)\n",
        "def f(x):\n",
        "    return 4 ** x\n",
        "\n",
        "#fungsi komposisi g(x)\n",
        "def g(x):\n",
        "    return x ** x\n",
        "\n",
        "#fungsi komposisi h(x)\n",
        "def h(x):\n",
        "    return 3 + x\n",
        "\n",
        "#fungsi prosedural\n",
        "def prosedural(x):\n",
        "    return f(g(h(x)))\n",
        "\n",
        "#meminta inputan x lalu menjalankan hasil prosedural\n",
        "try:\n",
        "  hasil = int(input(\"Masukan nilai x : \"))\n",
        "  print(\"Hasil : \", prosedural(hasil))\n",
        "except ValueError:\n",
        "    print(\"Input yang Anda masukkan bukan bilangan bulat. Silakan masukkan bilangan bulat.\")"
      ]
    },
    {
      "cell_type": "markdown",
      "source": [
        "[link text](https://) Kode di atas menunjukkan penggunaan kata kunci def untuk mendefinisikan fungsi f(x), g(x), dan h(x), serta persamaan matematika seperti 4^x, x^x, dan 3 + x.\n",
        "\n",
        "Fungsi-fungsi tersebut menunjukkan persamaan matematika yang berbeda, seperti f(x) untuk menghitung x pangkat 4, g(x) untuk menghitung x pangkat x, dan h(x) untuk menambahkan 3 ke nilai x."
      ],
      "metadata": {
        "id": "EX6Yg-gNovXX"
      }
    },
    {
      "cell_type": "code",
      "source": [
        "f = lambda x: 4 ** x #fungsi lambda f(x)\n",
        "g = lambda x: x ** x #fungsi lambda g(x)\n",
        "h = lambda x: 3 + x #fungsi lambda h(x)\n",
        "\n",
        "fungsi_lambda = lambda x: f(g(h(x))) #fungsi lambda\n",
        "\n",
        "#meminta inputan x lalu menjalankan hasil\n",
        "try:\n",
        "  hasil = int(input(\"Masukan nilai x : \"))\n",
        "  print(\"Hasil : \", fungsi_lambda(hasil))\n",
        "except ValueError:\n",
        "    print(\"Input yang Anda masukkan bukan bilangan bulat. Silakan masukkan bilangan bulat.\")"
      ],
      "metadata": {
        "id": "T4wBh-i5HkGm"
      },
      "execution_count": null,
      "outputs": []
    },
    {
      "cell_type": "markdown",
      "source": [
        "kode diatas merupakan penghitungan fungsi lambda.kode tersebut melakukan fungsi komposisi dengan menggunakan fungsi lambda dan menangani pengecualian untuk memastikan bahwa program dapat berjalan dengan benar meskipun pengguna memberikan input yang tidak valid."
      ],
      "metadata": {
        "id": "f0gZLcCIHq0P"
      }
    },
    {
      "cell_type": "markdown",
      "source": [
        "# 2. Pemrograman Berbasis Objek"
      ],
      "metadata": {
        "id": "SBz_bvDUqyac"
      }
    },
    {
      "cell_type": "code",
      "source": [
        "#kelas untuk fungsi komposisi menggunakan OOP\n",
        "class FungsiKomposisi:\n",
        "    def __init__(self):\n",
        "        pass\n",
        "\n",
        "    def f(self, x): #fungsi komposisi f(x)\n",
        "        return 4 ** x\n",
        "\n",
        "    def g(self, x): #fungsi komposisi g(x)\n",
        "        return x ** x\n",
        "\n",
        "    def h(self, x): #fungsi komposisi h(x)\n",
        "        return 3 + x\n",
        "\n",
        "    def prosedural(x): #fungsi prosedural\n",
        "      return f(g(h(x)))\n",
        "\n",
        "#meminta inputan x lalu menjalankan hasil prosedural\n",
        "try :\n",
        "  hasil = int(input(\"Masukan nilai x : \"))\n",
        "  print(\"Hasil : \", prosedural(hasil))\n",
        "except ValueError:\n",
        "    print(\"Input yang Anda masukkan bukan bilangan bulat. Silakan masukkan bilangan bulat.\")"
      ],
      "metadata": {
        "id": "qTcD_GTPqrrS",
        "colab": {
          "base_uri": "https://localhost:8080/"
        },
        "outputId": "81607488-fbf0-4a1a-e4b9-14f83d7ec13b"
      },
      "execution_count": null,
      "outputs": [
        {
          "output_type": "stream",
          "name": "stdout",
          "text": [
            "Masukan nilai x : 2\n",
            "Hasil :  2738248761316017572742348936950010448551572158231779371511420498138539276297788309394191354517654433778305760249669055018654345038982960283040173260517312916290707801820674504366871632600804887963367337263522497825292336532140913808410030791539345419424032061850694542711196274001481398359789911818130649888463151791752429780547244641193312608638152999722631211840673827646616997262935164407810027909383249609045265422952174035491456768893888496923961830419221696465348280014055438553165447953246393547267908926735736893878246590624064523380774652728053757996417828938554196482295448971165496475437853387095634190399912509837356933670123261396478811191241421262493034193313021183420956181216717081868545513920021942580642796112558632389903266880666949210343989829365024474105599321362078321074638405091811240017997510533388875174033541343506776468179253992429037400216227010510981451940845736527038397421672469179155341784115474317896179501263356203326473302831475871635062518572068608761953174215709163510862454592893723775386427499438400294202336786154386609347634745375233076466505495806172092060594145963921181228307048477883816255817344716719634854129222601062360116788810639458446723330064225308353743906876465406644382408619382301724036817398756799298738170782278569658071633306237014715950374153723813558136622846483152909449741391381399776793638349889957165775278429275453407870615300019214044913567652886299492793737053811573216763858783936753122909415990826965860042906636995995036650971826579439450668265147929149343544753413556427163350892776854789102396987172517128962352485156201061670562094756205191570461642458688689506275096417062443317935980620073192797175444117282095687099957030761660644180614070821947348042170423675095783453097990299074095898225321797495260055964103872883081899874454355208544861277083817218702152903385728058864916087114646485217773956890624\n"
          ]
        }
      ]
    },
    {
      "cell_type": "markdown",
      "source": [
        "Implementasi di atas mencakup kelas Python bernama CompositionFunctions yang memuat tiga fungsi: f, g, dan h. Setiap fungsi ini menerima parameter x dan menghasilkan nilai berdasarkan rumus tertentu.\n",
        "\n",
        "Deklarasi Kelas (CompositionFunctions):\n",
        "Kelas ini memiliki tiga fungsi, yakni f, g, dan h.\n",
        "Fungsi __init__ berfungsi sebagai konstruktor tetapi tidak melakukan apa pun dalam contoh ini.\n",
        "\n",
        "Fungsi f(x):\n",
        "Ini adalah fungsi eksponensial dengan rumus 4^x.\n",
        "Parameter x digunakan sebagai input, dan fungsi ini mengembalikan nilai dari 4^x.\n",
        "\n",
        "Fungsi g(x):\n",
        "Merupakan fungsi pangkat dengan rumus x^x.\n",
        "Parameter x adalah input, dan fungsi ini mengembalikan nilai dari x^x.\n",
        "\n",
        "Fungsi h(x):\n",
        "Merupakan fungsi penjumlahan dengan rumus 3+x.\n",
        "Parameter x digunakan sebagai input, dan fungsi ini mengembalikan hasil dari 3+x."
      ],
      "metadata": {
        "id": "4lZp0AgUq5TO"
      }
    }
  ]
}